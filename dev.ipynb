{
 "cells": [
  {
   "cell_type": "code",
   "execution_count": 1,
   "metadata": {},
   "outputs": [
    {
     "data": {
      "text/plain": [
       "2"
      ]
     },
     "execution_count": 1,
     "metadata": {},
     "output_type": "execute_result"
    }
   ],
   "source": [
    "from pydrantic import BaseConfig\n",
    "\n",
    "class Test1:\n",
    "    class Config(BaseConfig):\n",
    "        x: int = 1\n",
    "    \n",
    "    def __init__(self, config: Config):\n",
    "        self.config = config\n",
    "\n",
    "    def __call__(self):\n",
    "        return self.config.x\n",
    "\n",
    "test = Test1(config=Test1.Config(x=2))\n",
    "test()\n"
   ]
  },
  {
   "cell_type": "code",
   "execution_count": 6,
   "metadata": {},
   "outputs": [
    {
     "data": {
      "text/plain": [
       "(__main__.Test1.Config,\n",
       " pydrantic.config.BaseConfig,\n",
       " pydantic.main.BaseModel,\n",
       " object)"
      ]
     },
     "execution_count": 6,
     "metadata": {},
     "output_type": "execute_result"
    }
   ],
   "source": [
    "Test1.Config.__mro__"
   ]
  },
  {
   "cell_type": "code",
   "execution_count": 1,
   "metadata": {},
   "outputs": [],
   "source": [
    "%load_ext autoreload\n",
    "%autoreload 2\n"
   ]
  },
  {
   "cell_type": "code",
   "execution_count": 1,
   "metadata": {},
   "outputs": [
    {
     "name": "stderr",
     "output_type": "stream",
     "text": [
      "/home/sabri/miniconda3/envs/haystacks11/lib/python3.11/site-packages/pydantic/_internal/_fields.py:132: UserWarning: Field \"model_name\" in ClientConfig has conflict with protected namespace \"model_\".\n",
      "\n",
      "You may be able to resolve this warning by setting `model_config['protected_namespaces'] = ()`.\n",
      "  warnings.warn(\n",
      "/home/sabri/miniconda3/envs/haystacks11/lib/python3.11/site-packages/pydantic/_internal/_fields.py:132: UserWarning: Field \"model_name\" in Config has conflict with protected namespace \"model_\".\n",
      "\n",
      "You may be able to resolve this warning by setting `model_config['protected_namespaces'] = ()`.\n",
      "  warnings.warn(\n"
     ]
    }
   ],
   "source": [
    "from haystacks.communication.methods.base import ClientIndependentGenerator"
   ]
  },
  {
   "cell_type": "code",
   "execution_count": 2,
   "metadata": {},
   "outputs": [
    {
     "name": "stderr",
     "output_type": "stream",
     "text": [
      "/home/sabri/miniconda3/envs/haystacks11/lib/python3.11/site-packages/pydantic/_internal/_fields.py:132: UserWarning: Field \"model_name\" in TokasaurusServerlessConfig has conflict with protected namespace \"model_\".\n",
      "\n",
      "You may be able to resolve this warning by setting `model_config['protected_namespaces'] = ()`.\n",
      "  warnings.warn(\n",
      "/home/sabri/miniconda3/envs/haystacks11/lib/python3.11/site-packages/pydantic/_internal/_fields.py:132: UserWarning: Field \"model_name\" in TokasaurusDiversityServerlessConfig has conflict with protected namespace \"model_\".\n",
      "\n",
      "You may be able to resolve this warning by setting `model_config['protected_namespaces'] = ()`.\n",
      "  warnings.warn(\n"
     ]
    },
    {
     "name": "stdout",
     "output_type": "stream",
     "text": [
      "Building layers 0 to 16\n",
      "Loading from hf\n"
     ]
    }
   ],
   "source": [
    "from haystacks.sampler.clients.serverless import TokasaurusServerlessConfig\n",
    "generator = ClientIndependentGenerator.Config(\n",
    "    client=TokasaurusServerlessConfig(\n",
    "        model_name=\"meta-llama/Llama-3.2-1B-Instruct\",\n",
    "        kv_cache_num_tokens=2**19,\n",
    "    ),\n",
    "    num_samples=1,\n",
    "    batch_size=1,\n",
    "    prompt_template=\"{query}\\n\\n{context}\"\n",
    ").instantiate()"
   ]
  },
  {
   "cell_type": "code",
   "execution_count": 3,
   "metadata": {},
   "outputs": [],
   "source": [
    "# generator =TogetherGenerator.Config(model_name=\"meta-llama/Llama-3.3-70B-Instruct-Turbo\").instantiate()"
   ]
  },
  {
   "cell_type": "code",
   "execution_count": 4,
   "metadata": {},
   "outputs": [
    {
     "data": {
      "text/plain": [
       "[' Paris.\\nThe capital of France is Paris. This is one of the most well-known cities in the world, famous for its historic landmarks, fashion, and cuisine. Paris is also the center of the French government and is home to many famous museums and art galleries.\\n\\nThe capital of France is Paris. This is one of the most well-known cities in the world, famous for its historic landmarks, fashion, and cuisine. Paris is also the center of the French government and is home to many famous museums and art galleries.\\n\\n## Step 1: Identify the information given in the problem.\\nThe problem states that the capital of France is Paris.\\n\\n## Step 2: Determine the relevance of the information to the question.\\nThe information about the capital of France is provided as a fact.\\n\\n## Step 3: Consider any additional information that may be relevant to the question.\\nThere is no additional information provided in the problem that would suggest a different answer.\\n\\n## Step 4: Draw a conclusion based on the information provided.\\nThe conclusion is that the capital of France is indeed Paris.\\n\\nThe final answer is: $\\\\boxed{Paris}$<|eot_id|>']"
      ]
     },
     "execution_count": 4,
     "metadata": {},
     "output_type": "execute_result"
    }
   ],
   "source": [
    "generator(\n",
    "    query=\"What is the capital of France?\",\n",
    "    context=\"France is a country in Europe.\"\n",
    ")"
   ]
  },
  {
   "cell_type": "code",
   "execution_count": null,
   "metadata": {},
   "outputs": [],
   "source": []
  }
 ],
 "metadata": {
  "kernelspec": {
   "display_name": "haystacks11",
   "language": "python",
   "name": "python3"
  },
  "language_info": {
   "codemirror_mode": {
    "name": "ipython",
    "version": 3
   },
   "file_extension": ".py",
   "mimetype": "text/x-python",
   "name": "python",
   "nbconvert_exporter": "python",
   "pygments_lexer": "ipython3",
   "version": "3.11.8"
  }
 },
 "nbformat": 4,
 "nbformat_minor": 2
}
